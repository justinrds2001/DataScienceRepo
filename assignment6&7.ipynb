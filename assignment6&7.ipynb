{
 "cells": [
  {
   "cell_type": "code",
   "execution_count": 1,
   "id": "44928af9",
   "metadata": {},
   "outputs": [],
   "source": [
    "import pandas as pd"
   ]
  },
  {
   "cell_type": "code",
   "execution_count": 2,
   "id": "afba3e7c",
   "metadata": {},
   "outputs": [],
   "source": [
    "import seaborn as sns"
   ]
  },
  {
   "cell_type": "code",
   "execution_count": 3,
   "id": "151966be",
   "metadata": {},
   "outputs": [
    {
     "data": {
      "text/html": [
       "<div>\n",
       "<style scoped>\n",
       "    .dataframe tbody tr th:only-of-type {\n",
       "        vertical-align: middle;\n",
       "    }\n",
       "\n",
       "    .dataframe tbody tr th {\n",
       "        vertical-align: top;\n",
       "    }\n",
       "\n",
       "    .dataframe thead th {\n",
       "        text-align: right;\n",
       "    }\n",
       "</style>\n",
       "<table border=\"1\" class=\"dataframe\">\n",
       "  <thead>\n",
       "    <tr style=\"text-align: right;\">\n",
       "      <th></th>\n",
       "      <th>Unnamed: 0</th>\n",
       "      <th>Unnamed: 0.1</th>\n",
       "      <th>Name</th>\n",
       "      <th>Card type</th>\n",
       "      <th>Attribute</th>\n",
       "      <th>Monster Type</th>\n",
       "      <th>Level/Rank</th>\n",
       "      <th>ATK/DEF</th>\n",
       "      <th>Passcode</th>\n",
       "      <th>Materials / Ritual spell</th>\n",
       "      <th>Effect type</th>\n",
       "      <th>Effect</th>\n",
       "      <th>Spell/Trap type</th>\n",
       "      <th>TCG sets</th>\n",
       "      <th>Ban_list</th>\n",
       "      <th>Number of sets</th>\n",
       "      <th>Link Arrows</th>\n",
       "      <th>Pendulum Scale</th>\n",
       "      <th>Rarities</th>\n",
       "      <th>Set Name</th>\n",
       "      <th>Release Date</th>\n",
       "      <th>Yugioh Prices Link</th>\n",
       "    </tr>\n",
       "  </thead>\n",
       "  <tbody>\n",
       "    <tr>\n",
       "      <th>0</th>\n",
       "      <td>0</td>\n",
       "      <td>0</td>\n",
       "      <td>\"A\" Cell Breeding Device</td>\n",
       "      <td>Spell</td>\n",
       "      <td>NaN</td>\n",
       "      <td>NaN</td>\n",
       "      <td>NaN</td>\n",
       "      <td>NaN</td>\n",
       "      <td>34541863</td>\n",
       "      <td>NaN</td>\n",
       "      <td>Trigger-like</td>\n",
       "      <td>During each of your Standby Phases, put 1 A- C...</td>\n",
       "      <td>Continuous</td>\n",
       "      <td>FOTB-EN043</td>\n",
       "      <td>Unlimited</td>\n",
       "      <td>1</td>\n",
       "      <td>NaN</td>\n",
       "      <td>NaN</td>\n",
       "      <td>Common</td>\n",
       "      <td>Force of the Breaker Sneak Peek Participation ...</td>\n",
       "      <td>May 16, 2007</td>\n",
       "      <td>https://yugiohprices.com/price_history/FOTB-EN...</td>\n",
       "    </tr>\n",
       "    <tr>\n",
       "      <th>1</th>\n",
       "      <td>1</td>\n",
       "      <td>1</td>\n",
       "      <td>\"A\" Cell Incubator</td>\n",
       "      <td>Spell</td>\n",
       "      <td>NaN</td>\n",
       "      <td>NaN</td>\n",
       "      <td>NaN</td>\n",
       "      <td>NaN</td>\n",
       "      <td>64163367</td>\n",
       "      <td>NaN</td>\n",
       "      <td>Continuous-like, Trigger-like</td>\n",
       "      <td>Each time an A- Counter(s) is removed from pla...</td>\n",
       "      <td>Continuous</td>\n",
       "      <td>GLAS-EN062</td>\n",
       "      <td>Unlimited</td>\n",
       "      <td>1</td>\n",
       "      <td>NaN</td>\n",
       "      <td>NaN</td>\n",
       "      <td>Common</td>\n",
       "      <td>Gladiator's Assault Sneak Peek Participation Card</td>\n",
       "      <td>November 14, 2007</td>\n",
       "      <td>https://yugiohprices.com/price_history/GLAS-EN...</td>\n",
       "    </tr>\n",
       "    <tr>\n",
       "      <th>2</th>\n",
       "      <td>2</td>\n",
       "      <td>2</td>\n",
       "      <td>\"A\" Cell Recombination Device</td>\n",
       "      <td>Spell</td>\n",
       "      <td>NaN</td>\n",
       "      <td>NaN</td>\n",
       "      <td>NaN</td>\n",
       "      <td>NaN</td>\n",
       "      <td>91231901</td>\n",
       "      <td>NaN</td>\n",
       "      <td>Effect, Ignition-like</td>\n",
       "      <td>Target 1 face-up monster on the field; send 1 ...</td>\n",
       "      <td>Quick-Play</td>\n",
       "      <td>INOV-EN063</td>\n",
       "      <td>Unlimited</td>\n",
       "      <td>1</td>\n",
       "      <td>NaN</td>\n",
       "      <td>NaN</td>\n",
       "      <td>Common</td>\n",
       "      <td>Invasion: Vengeance Sneak Peek Participation Card</td>\n",
       "      <td>November 4, 2016</td>\n",
       "      <td>https://yugiohprices.com/price_history/INOV-EN...</td>\n",
       "    </tr>\n",
       "    <tr>\n",
       "      <th>3</th>\n",
       "      <td>3</td>\n",
       "      <td>3</td>\n",
       "      <td>\"A\" Cell Scatter Burst</td>\n",
       "      <td>Spell</td>\n",
       "      <td>NaN</td>\n",
       "      <td>NaN</td>\n",
       "      <td>NaN</td>\n",
       "      <td>NaN</td>\n",
       "      <td>73262676</td>\n",
       "      <td>NaN</td>\n",
       "      <td>Effect</td>\n",
       "      <td>Select 1 face-up \" Alien\" monster you control....</td>\n",
       "      <td>Quick-Play</td>\n",
       "      <td>STON-EN041</td>\n",
       "      <td>Unlimited</td>\n",
       "      <td>1</td>\n",
       "      <td>NaN</td>\n",
       "      <td>NaN</td>\n",
       "      <td>Common</td>\n",
       "      <td>Strike of Neos Sneak Peek Participation Card</td>\n",
       "      <td>February 28, 2007</td>\n",
       "      <td>https://yugiohprices.com/price_history/STON-EN...</td>\n",
       "    </tr>\n",
       "    <tr>\n",
       "      <th>4</th>\n",
       "      <td>4</td>\n",
       "      <td>4</td>\n",
       "      <td>\"Infernoble Arms - Durendal\"</td>\n",
       "      <td>Spell</td>\n",
       "      <td>NaN</td>\n",
       "      <td>NaN</td>\n",
       "      <td>NaN</td>\n",
       "      <td>NaN</td>\n",
       "      <td>37478723</td>\n",
       "      <td>NaN</td>\n",
       "      <td>Ignition-like, Trigger-like, Condition</td>\n",
       "      <td>While this card is equipped to a monster: You ...</td>\n",
       "      <td>Equip</td>\n",
       "      <td>ROTD-EN053</td>\n",
       "      <td>Unlimited</td>\n",
       "      <td>1</td>\n",
       "      <td>NaN</td>\n",
       "      <td>NaN</td>\n",
       "      <td>Ultra Rare</td>\n",
       "      <td>Rise of the Duelist Premiere!</td>\n",
       "      <td>August 7, 2020</td>\n",
       "      <td>https://yugiohprices.com/price_history/ROTD-EN...</td>\n",
       "    </tr>\n",
       "  </tbody>\n",
       "</table>\n",
       "</div>"
      ],
      "text/plain": [
       "   Unnamed: 0  Unnamed: 0.1                           Name Card type  \\\n",
       "0           0             0       \"A\" Cell Breeding Device    Spell    \n",
       "1           1             1             \"A\" Cell Incubator    Spell    \n",
       "2           2             2  \"A\" Cell Recombination Device    Spell    \n",
       "3           3             3         \"A\" Cell Scatter Burst    Spell    \n",
       "4           4             4   \"Infernoble Arms - Durendal\"    Spell    \n",
       "\n",
       "  Attribute Monster Type  Level/Rank ATK/DEF  Passcode  \\\n",
       "0       NaN          NaN         NaN     NaN  34541863   \n",
       "1       NaN          NaN         NaN     NaN  64163367   \n",
       "2       NaN          NaN         NaN     NaN  91231901   \n",
       "3       NaN          NaN         NaN     NaN  73262676   \n",
       "4       NaN          NaN         NaN     NaN  37478723   \n",
       "\n",
       "  Materials / Ritual spell                             Effect type  \\\n",
       "0                      NaN                            Trigger-like   \n",
       "1                      NaN           Continuous-like, Trigger-like   \n",
       "2                      NaN                   Effect, Ignition-like   \n",
       "3                      NaN                                  Effect   \n",
       "4                      NaN  Ignition-like, Trigger-like, Condition   \n",
       "\n",
       "                                              Effect Spell/Trap type  \\\n",
       "0  During each of your Standby Phases, put 1 A- C...     Continuous    \n",
       "1  Each time an A- Counter(s) is removed from pla...     Continuous    \n",
       "2  Target 1 face-up monster on the field; send 1 ...     Quick-Play    \n",
       "3  Select 1 face-up \" Alien\" monster you control....     Quick-Play    \n",
       "4  While this card is equipped to a monster: You ...          Equip    \n",
       "\n",
       "     TCG sets    Ban_list  Number of sets Link Arrows  Pendulum Scale  \\\n",
       "0  FOTB-EN043  Unlimited                1         NaN             NaN   \n",
       "1  GLAS-EN062  Unlimited                1         NaN             NaN   \n",
       "2  INOV-EN063  Unlimited                1         NaN             NaN   \n",
       "3  STON-EN041  Unlimited                1         NaN             NaN   \n",
       "4  ROTD-EN053  Unlimited                1         NaN             NaN   \n",
       "\n",
       "     Rarities                                           Set Name  \\\n",
       "0      Common  Force of the Breaker Sneak Peek Participation ...   \n",
       "1      Common  Gladiator's Assault Sneak Peek Participation Card   \n",
       "2      Common  Invasion: Vengeance Sneak Peek Participation Card   \n",
       "3      Common       Strike of Neos Sneak Peek Participation Card   \n",
       "4  Ultra Rare                      Rise of the Duelist Premiere!   \n",
       "\n",
       "        Release Date                                 Yugioh Prices Link  \n",
       "0       May 16, 2007  https://yugiohprices.com/price_history/FOTB-EN...  \n",
       "1  November 14, 2007  https://yugiohprices.com/price_history/GLAS-EN...  \n",
       "2   November 4, 2016  https://yugiohprices.com/price_history/INOV-EN...  \n",
       "3  February 28, 2007  https://yugiohprices.com/price_history/STON-EN...  \n",
       "4     August 7, 2020  https://yugiohprices.com/price_history/ROTD-EN...  "
      ]
     },
     "execution_count": 3,
     "metadata": {},
     "output_type": "execute_result"
    }
   ],
   "source": [
    "yugioh = pd.read_csv('YugiohCards.csv', sep=',')\n",
    "pd.set_option(\"max_columns\", 100)\n",
    "dt = yugioh\n",
    "dt.head()"
   ]
  },
  {
   "cell_type": "markdown",
   "id": "d96858ed",
   "metadata": {},
   "source": [
    "# Catogorical data"
   ]
  },
  {
   "cell_type": "code",
   "execution_count": 4,
   "id": "749c362c",
   "metadata": {},
   "outputs": [
    {
     "data": {
      "text/plain": [
       "<AxesSubplot:>"
      ]
     },
     "execution_count": 4,
     "metadata": {},
     "output_type": "execute_result"
    },
    {
     "data": {
      "image/png": "[encoded data removed]",
      "text/plain": [
       "<Figure size 432x288 with 1 Axes>"
      ]
     },
     "metadata": {
      "needs_background": "light"
     },
     "output_type": "display_data"
    }
   ],
   "source": [
    "dt[\"Card type\"].value_counts(dropna=False).plot(kind=\"bar\")"
   ]
  },
  {
   "cell_type": "code",
   "execution_count": 5,
   "id": "72f26f3e",
   "metadata": {
    "scrolled": true
   },
   "outputs": [
    {
     "data": {
      "text/plain": [
       "<AxesSubplot:>"
      ]
     },
     "execution_count": 5,
     "metadata": {},
     "output_type": "execute_result"
    },
    {
     "data": {
      "image/png": "[encoded data removed]",
      "text/plain": [
       "<Figure size 432x288 with 1 Axes>"
      ]
     },
     "metadata": {
      "needs_background": "light"
     },
     "output_type": "display_data"
    }
   ],
   "source": [
    "dt[\"Spell/Trap type\"].value_counts(dropna=False).plot(kind=\"bar\")"
   ]
  },
  {
   "cell_type": "markdown",
   "id": "88a2da57",
   "metadata": {},
   "source": [
    "# Numerical data"
   ]
  },
  {
   "cell_type": "code",
   "execution_count": 7,
   "id": "c26ee7e4",
   "metadata": {},
   "outputs": [
    {
     "data": {
      "text/plain": [
       "<AxesSubplot:ylabel='Frequency'>"
      ]
     },
     "execution_count": 7,
     "metadata": {},
     "output_type": "execute_result"
    },
    {
     "data": {
      "image/png": "[encoded data removed]",
      "text/plain": [
       "<Figure size 432x288 with 1 Axes>"
      ]
     },
     "metadata": {
      "needs_background": "light"
     },
     "output_type": "display_data"
    }
   ],
   "source": [
    "dt[\"Number of sets\"].plot(kind=\"hist\", bins=10)"
   ]
  },
  {
   "cell_type": "code",
   "execution_count": 8,
   "id": "789f4cdc",
   "metadata": {
    "scrolled": true
   },
   "outputs": [
    {
     "data": {
      "text/plain": [
       "<AxesSubplot:>"
      ]
     },
     "execution_count": 8,
     "metadata": {},
     "output_type": "execute_result"
    },
    {
     "data": {
      "image/png": "[encoded data removed]",
      "text/plain": [
       "<Figure size 432x288 with 1 Axes>"
      ]
     },
     "metadata": {
      "needs_background": "light"
     },
     "output_type": "display_data"
    }
   ],
   "source": [
    "dt[\"Pendulum Scale\"].plot(kind=\"box\")"
   ]
  },
  {
   "cell_type": "markdown",
   "id": "e1aad249",
   "metadata": {},
   "source": [
    "# Assignment 7"
   ]
  },
  {
   "cell_type": "code",
   "execution_count": 16,
   "id": "f39b7672",
   "metadata": {
    "scrolled": true
   },
   "outputs": [
    {
     "data": {
      "text/plain": [
       "<AxesSubplot:ylabel='Frequency'>"
      ]
     },
     "execution_count": 16,
     "metadata": {},
     "output_type": "execute_result"
    },
    {
     "data": {
      "image/png": "[encoded data removed]",
      "text/plain": [
       "<Figure size 432x288 with 1 Axes>"
      ]
     },
     "metadata": {
      "needs_background": "light"
     },
     "output_type": "display_data"
    }
   ],
   "source": [
    "dt[\"Pendulum Scale\"].plot(kind=\"hist\", bins=10)"
   ]
  },
  {
   "cell_type": "code",
   "execution_count": null,
   "id": "736cdb98",
   "metadata": {},
   "outputs": [],
   "source": []
  },
  {
   "cell_type": "code",
   "execution_count": null,
   "id": "ac64f9e0",
   "metadata": {},
   "outputs": [],
   "source": []
  }
 ],
 "metadata": {
  "kernelspec": {
   "display_name": "Python 3 (ipykernel)",
   "language": "python",
   "name": "python3"
  },
  "language_info": {
   "codemirror_mode": {
    "name": "ipython",
    "version": 3
   },
   "file_extension": ".py",
   "mimetype": "text/x-python",
   "name": "python",
   "nbconvert_exporter": "python",
   "pygments_lexer": "ipython3",
   "version": "3.9.7"
  }
 },
 "nbformat": 4,
 "nbformat_minor": 5
}
