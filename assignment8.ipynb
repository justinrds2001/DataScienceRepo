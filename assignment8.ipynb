{
 "cells": [
  {
   "cell_type": "code",
   "execution_count": 1,
   "id": "99f0e30f",
   "metadata": {},
   "outputs": [],
   "source": [
    "import pandas as pd"
   ]
  },
  {
   "cell_type": "code",
   "execution_count": 2,
   "id": "58592470",
   "metadata": {},
   "outputs": [],
   "source": [
    "import seaborn as sns"
   ]
  },
  {
   "cell_type": "code",
   "execution_count": 3,
   "id": "ebe2e089",
   "metadata": {},
   "outputs": [],
   "source": [
    "import scipy.stats as st"
   ]
  },
  {
   "cell_type": "code",
   "execution_count": 4,
   "id": "2a545291",
   "metadata": {},
   "outputs": [
    {
     "data": {
      "text/html": [
       "<div>\n",
       "<style scoped>\n",
       "    .dataframe tbody tr th:only-of-type {\n",
       "        vertical-align: middle;\n",
       "    }\n",
       "\n",
       "    .dataframe tbody tr th {\n",
       "        vertical-align: top;\n",
       "    }\n",
       "\n",
       "    .dataframe thead th {\n",
       "        text-align: right;\n",
       "    }\n",
       "</style>\n",
       "<table border=\"1\" class=\"dataframe\">\n",
       "  <thead>\n",
       "    <tr style=\"text-align: right;\">\n",
       "      <th></th>\n",
       "      <th>Rank</th>\n",
       "      <th>Name</th>\n",
       "      <th>Platform</th>\n",
       "      <th>Year</th>\n",
       "      <th>Genre</th>\n",
       "      <th>Publisher</th>\n",
       "      <th>NA_Sales</th>\n",
       "      <th>EU_Sales</th>\n",
       "      <th>JP_Sales</th>\n",
       "      <th>Other_Sales</th>\n",
       "      <th>Global_Sales</th>\n",
       "    </tr>\n",
       "  </thead>\n",
       "  <tbody>\n",
       "    <tr>\n",
       "      <th>0</th>\n",
       "      <td>1</td>\n",
       "      <td>Wii Sports</td>\n",
       "      <td>Wii</td>\n",
       "      <td>2006</td>\n",
       "      <td>Sports</td>\n",
       "      <td>Nintendo</td>\n",
       "      <td>41490000</td>\n",
       "      <td>29020000</td>\n",
       "      <td>3770000</td>\n",
       "      <td>8460000</td>\n",
       "      <td>82740000</td>\n",
       "    </tr>\n",
       "    <tr>\n",
       "      <th>1</th>\n",
       "      <td>2</td>\n",
       "      <td>Super Mario Bros.</td>\n",
       "      <td>NES</td>\n",
       "      <td>1985</td>\n",
       "      <td>Platform</td>\n",
       "      <td>Nintendo</td>\n",
       "      <td>29080000</td>\n",
       "      <td>3580000</td>\n",
       "      <td>6810000</td>\n",
       "      <td>770000</td>\n",
       "      <td>40240000</td>\n",
       "    </tr>\n",
       "    <tr>\n",
       "      <th>2</th>\n",
       "      <td>3</td>\n",
       "      <td>Mario Kart Wii</td>\n",
       "      <td>Wii</td>\n",
       "      <td>2008</td>\n",
       "      <td>Racing</td>\n",
       "      <td>Nintendo</td>\n",
       "      <td>15850000</td>\n",
       "      <td>12880000</td>\n",
       "      <td>3790000</td>\n",
       "      <td>3310000</td>\n",
       "      <td>35820000</td>\n",
       "    </tr>\n",
       "    <tr>\n",
       "      <th>3</th>\n",
       "      <td>4</td>\n",
       "      <td>Wii Sports Resort</td>\n",
       "      <td>Wii</td>\n",
       "      <td>2009</td>\n",
       "      <td>Sports</td>\n",
       "      <td>Nintendo</td>\n",
       "      <td>15750000</td>\n",
       "      <td>11010000</td>\n",
       "      <td>3280000</td>\n",
       "      <td>2960000</td>\n",
       "      <td>33000000</td>\n",
       "    </tr>\n",
       "    <tr>\n",
       "      <th>4</th>\n",
       "      <td>5</td>\n",
       "      <td>Pokemon Red/Pokemon Blue</td>\n",
       "      <td>GB</td>\n",
       "      <td>1996</td>\n",
       "      <td>Role-Playing</td>\n",
       "      <td>Nintendo</td>\n",
       "      <td>11270000</td>\n",
       "      <td>8890000</td>\n",
       "      <td>10220000</td>\n",
       "      <td>1000000</td>\n",
       "      <td>31370000</td>\n",
       "    </tr>\n",
       "  </tbody>\n",
       "</table>\n",
       "</div>"
      ],
      "text/plain": [
       "   Rank                      Name Platform  Year         Genre Publisher  \\\n",
       "0     1                Wii Sports      Wii  2006        Sports  Nintendo   \n",
       "1     2         Super Mario Bros.      NES  1985      Platform  Nintendo   \n",
       "2     3            Mario Kart Wii      Wii  2008        Racing  Nintendo   \n",
       "3     4         Wii Sports Resort      Wii  2009        Sports  Nintendo   \n",
       "4     5  Pokemon Red/Pokemon Blue       GB  1996  Role-Playing  Nintendo   \n",
       "\n",
       "   NA_Sales  EU_Sales  JP_Sales  Other_Sales  Global_Sales  \n",
       "0  41490000  29020000   3770000      8460000      82740000  \n",
       "1  29080000   3580000   6810000       770000      40240000  \n",
       "2  15850000  12880000   3790000      3310000      35820000  \n",
       "3  15750000  11010000   3280000      2960000      33000000  \n",
       "4  11270000   8890000  10220000      1000000      31370000  "
      ]
     },
     "execution_count": 4,
     "metadata": {},
     "output_type": "execute_result"
    }
   ],
   "source": [
    "sales = pd.read_csv('vgsales.csv', sep=',')\n",
    "pd.set_option(\"max_columns\", 100)\n",
    "dt = sales\n",
    "dt.head()"
   ]
  },
  {
   "cell_type": "code",
   "execution_count": 5,
   "id": "12c07124",
   "metadata": {},
   "outputs": [
    {
     "data": {
      "text/plain": [
       "(517578.7650867718, 557288.0863411111)"
      ]
     },
     "execution_count": 5,
     "metadata": {},
     "output_type": "execute_result"
    }
   ],
   "source": [
    "confidence = 0.90\n",
    "st.t.interval(confidence, len(dt)-1, loc=dt[\"Global_Sales\"].mean(), scale=st.sem(dt[\"Global_Sales\"]))"
   ]
  },
  {
   "cell_type": "code",
   "execution_count": 6,
   "id": "091c2c3e",
   "metadata": {},
   "outputs": [
    {
     "data": {
      "text/plain": [
       "(513774.7335381237, 561092.1178897592)"
      ]
     },
     "execution_count": 6,
     "metadata": {},
     "output_type": "execute_result"
    }
   ],
   "source": [
    "confidence = 0.95\n",
    "st.t.interval(confidence, len(dt)-1, loc=dt[\"Global_Sales\"].mean(), scale=st.sem(dt[\"Global_Sales\"]))"
   ]
  },
  {
   "cell_type": "code",
   "execution_count": 7,
   "id": "cc1ae59a",
   "metadata": {},
   "outputs": [
    {
     "data": {
      "text/plain": [
       "(506339.3252327365, 568527.5261951464)"
      ]
     },
     "execution_count": 7,
     "metadata": {},
     "output_type": "execute_result"
    }
   ],
   "source": [
    "confidence = 0.99\n",
    "st.t.interval(confidence, len(dt)-1, loc=dt[\"Global_Sales\"].mean(), scale=st.sem(dt[\"Global_Sales\"]))"
   ]
  },
  {
   "cell_type": "code",
   "execution_count": 8,
   "id": "a09b3e94",
   "metadata": {},
   "outputs": [
    {
     "data": {
      "text/plain": [
       "(490462.1647540868, 584404.6866737962)"
      ]
     },
     "execution_count": 8,
     "metadata": {},
     "output_type": "execute_result"
    }
   ],
   "source": [
    "confidence = 0.9999\n",
    "st.t.interval(confidence, len(dt)-1, loc=dt[\"Global_Sales\"].mean(), scale=st.sem(dt[\"Global_Sales\"]))"
   ]
  },
  {
   "cell_type": "code",
   "execution_count": 9,
   "id": "8f826868",
   "metadata": {},
   "outputs": [
    {
     "data": {
      "text/plain": [
       "(253341.63661522162, 274194.2110772715)"
      ]
     },
     "execution_count": 9,
     "metadata": {},
     "output_type": "execute_result"
    }
   ],
   "source": [
    "confidence = 0.90\n",
    "st.t.interval(confidence, len(dt)-1, loc=dt[\"NA_Sales\"].mean(), scale=st.sem(dt[\"NA_Sales\"]))"
   ]
  },
  {
   "cell_type": "code",
   "execution_count": 10,
   "id": "fe011411",
   "metadata": {},
   "outputs": [
    {
     "data": {
      "text/plain": [
       "(253341.63661522162, 274194.2110772715)"
      ]
     },
     "execution_count": 10,
     "metadata": {},
     "output_type": "execute_result"
    }
   ],
   "source": [
    "confidence = 0.90\n",
    "st.t.interval(confidence, len(dt)-1, loc=dt[\"NA_Sales\"].mean(), scale=st.sem(dt[\"NA_Sales\"]))"
   ]
  },
  {
   "cell_type": "code",
   "execution_count": 11,
   "id": "a51dbd1d",
   "metadata": {},
   "outputs": [
    {
     "data": {
      "text/plain": [
       "(253341.63661522162, 274194.2110772715)"
      ]
     },
     "execution_count": 11,
     "metadata": {},
     "output_type": "execute_result"
    }
   ],
   "source": [
    "confidence = 0.90\n",
    "st.t.interval(confidence, len(dt)-1, loc=dt[\"NA_Sales\"].mean(), scale=st.sem(dt[\"NA_Sales\"]))"
   ]
  },
  {
   "cell_type": "code",
   "execution_count": 12,
   "id": "75f0c870",
   "metadata": {},
   "outputs": [
    {
     "data": {
      "text/plain": [
       "(253341.63661522162, 274194.2110772715)"
      ]
     },
     "execution_count": 12,
     "metadata": {},
     "output_type": "execute_result"
    }
   ],
   "source": [
    "confidence = 0.90\n",
    "st.t.interval(confidence, len(dt)-1, loc=dt[\"NA_Sales\"].mean(), scale=st.sem(dt[\"NA_Sales\"]))"
   ]
  },
  {
   "cell_type": "markdown",
   "id": "a6cd1822",
   "metadata": {},
   "source": [
    "### Hoe hoger de confidence, hoe groter de interval"
   ]
  },
  {
   "cell_type": "code",
   "execution_count": 13,
   "id": "e7928d5c",
   "metadata": {},
   "outputs": [
    {
     "data": {
      "text/plain": [
       "1659.8"
      ]
     },
     "execution_count": 13,
     "metadata": {},
     "output_type": "execute_result"
    }
   ],
   "source": [
    "## 10% of the rows\n",
    "index = dt.index\n",
    "number_of_rows = len(index)\n",
    "number_of_rows / 10"
   ]
  },
  {
   "cell_type": "code",
   "execution_count": 14,
   "id": "228ccbaf",
   "metadata": {},
   "outputs": [
    {
     "data": {
      "text/plain": [
       "(2971738.9572970793, 3355530.4821242588)"
      ]
     },
     "execution_count": 14,
     "metadata": {},
     "output_type": "execute_result"
    }
   ],
   "source": [
    "confidence = 0.95\n",
    "df = dt[\"Global_Sales\"].iloc[0:1659]\n",
    "st.t.interval(confidence, len(dt)-1, loc=df.mean(), scale=st.sem(df))"
   ]
  },
  {
   "cell_type": "code",
   "execution_count": 15,
   "id": "ef691305",
   "metadata": {},
   "outputs": [
    {
     "data": {
      "text/plain": [
       "(1440446.078223311, 1647136.8030304562)"
      ]
     },
     "execution_count": 15,
     "metadata": {},
     "output_type": "execute_result"
    }
   ],
   "source": [
    "confidence = 0.95\n",
    "df = dt[\"NA_Sales\"].iloc[0:1659]\n",
    "st.t.interval(confidence, len(dt)-1, loc=df.mean(), scale=st.sem(df))"
   ]
  },
  {
   "cell_type": "markdown",
   "id": "5e70c143",
   "metadata": {},
   "source": [
    "## De interval wordt groter met minder data, ook klopt the nieuwe interval niet omdat de dataset gesorteerd is op basis van wereldwijde verkoop. De bovenste 10% laat dus een veel hogere gemiddelde zien dan als ik alle rows meepak"
   ]
  }
 ],
 "metadata": {
  "kernelspec": {
   "display_name": "Python 3 (ipykernel)",
   "language": "python",
   "name": "python3"
  },
  "language_info": {
   "codemirror_mode": {
    "name": "ipython",
    "version": 3
   },
   "file_extension": ".py",
   "mimetype": "text/x-python",
   "name": "python",
   "nbconvert_exporter": "python",
   "pygments_lexer": "ipython3",
   "version": "3.9.7"
  }
 },
 "nbformat": 4,
 "nbformat_minor": 5
}
