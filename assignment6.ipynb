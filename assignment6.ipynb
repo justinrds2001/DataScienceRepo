{
 "cells": [
  {
   "cell_type": "code",
   "execution_count": 2,
   "id": "44928af9",
   "metadata": {},
   "outputs": [],
   "source": [
    "import pandas as pd"
   ]
  },
  {
   "cell_type": "code",
   "execution_count": 3,
   "id": "afba3e7c",
   "metadata": {},
   "outputs": [],
   "source": [
    "import seaborn as sns"
   ]
  },
  {
   "cell_type": "code",
   "execution_count": 5,
   "id": "151966be",
   "metadata": {},
   "outputs": [
    {
     "data": {
      "text/html": [
       "<div>\n",
       "<style scoped>\n",
       "    .dataframe tbody tr th:only-of-type {\n",
       "        vertical-align: middle;\n",
       "    }\n",
       "\n",
       "    .dataframe tbody tr th {\n",
       "        vertical-align: top;\n",
       "    }\n",
       "\n",
       "    .dataframe thead th {\n",
       "        text-align: right;\n",
       "    }\n",
       "</style>\n",
       "<table border=\"1\" class=\"dataframe\">\n",
       "  <thead>\n",
       "    <tr style=\"text-align: right;\">\n",
       "      <th></th>\n",
       "      <th>Unnamed: 0</th>\n",
       "      <th>Unnamed: 0.1</th>\n",
       "      <th>Name</th>\n",
       "      <th>Card type</th>\n",
       "      <th>Attribute</th>\n",
       "      <th>Monster Type</th>\n",
       "      <th>Level/Rank</th>\n",
       "      <th>ATK/DEF</th>\n",
       "      <th>Passcode</th>\n",
       "      <th>Materials / Ritual spell</th>\n",
       "      <th>...</th>\n",
       "      <th>Spell/Trap type</th>\n",
       "      <th>TCG sets</th>\n",
       "      <th>Ban_list</th>\n",
       "      <th>Number of sets</th>\n",
       "      <th>Link Arrows</th>\n",
       "      <th>Pendulum Scale</th>\n",
       "      <th>Rarities</th>\n",
       "      <th>Set Name</th>\n",
       "      <th>Release Date</th>\n",
       "      <th>Yugioh Prices Link</th>\n",
       "    </tr>\n",
       "  </thead>\n",
       "  <tbody>\n",
       "    <tr>\n",
       "      <th>0</th>\n",
       "      <td>0</td>\n",
       "      <td>0</td>\n",
       "      <td>\"A\" Cell Breeding Device</td>\n",
       "      <td>Spell</td>\n",
       "      <td>NaN</td>\n",
       "      <td>NaN</td>\n",
       "      <td>NaN</td>\n",
       "      <td>NaN</td>\n",
       "      <td>34541863</td>\n",
       "      <td>NaN</td>\n",
       "      <td>...</td>\n",
       "      <td>Continuous</td>\n",
       "      <td>FOTB-EN043</td>\n",
       "      <td>Unlimited</td>\n",
       "      <td>1</td>\n",
       "      <td>NaN</td>\n",
       "      <td>NaN</td>\n",
       "      <td>Common</td>\n",
       "      <td>Force of the Breaker Sneak Peek Participation ...</td>\n",
       "      <td>May 16, 2007</td>\n",
       "      <td>https://yugiohprices.com/price_history/FOTB-EN...</td>\n",
       "    </tr>\n",
       "    <tr>\n",
       "      <th>1</th>\n",
       "      <td>1</td>\n",
       "      <td>1</td>\n",
       "      <td>\"A\" Cell Incubator</td>\n",
       "      <td>Spell</td>\n",
       "      <td>NaN</td>\n",
       "      <td>NaN</td>\n",
       "      <td>NaN</td>\n",
       "      <td>NaN</td>\n",
       "      <td>64163367</td>\n",
       "      <td>NaN</td>\n",
       "      <td>...</td>\n",
       "      <td>Continuous</td>\n",
       "      <td>GLAS-EN062</td>\n",
       "      <td>Unlimited</td>\n",
       "      <td>1</td>\n",
       "      <td>NaN</td>\n",
       "      <td>NaN</td>\n",
       "      <td>Common</td>\n",
       "      <td>Gladiator's Assault Sneak Peek Participation Card</td>\n",
       "      <td>November 14, 2007</td>\n",
       "      <td>https://yugiohprices.com/price_history/GLAS-EN...</td>\n",
       "    </tr>\n",
       "    <tr>\n",
       "      <th>2</th>\n",
       "      <td>2</td>\n",
       "      <td>2</td>\n",
       "      <td>\"A\" Cell Recombination Device</td>\n",
       "      <td>Spell</td>\n",
       "      <td>NaN</td>\n",
       "      <td>NaN</td>\n",
       "      <td>NaN</td>\n",
       "      <td>NaN</td>\n",
       "      <td>91231901</td>\n",
       "      <td>NaN</td>\n",
       "      <td>...</td>\n",
       "      <td>Quick-Play</td>\n",
       "      <td>INOV-EN063</td>\n",
       "      <td>Unlimited</td>\n",
       "      <td>1</td>\n",
       "      <td>NaN</td>\n",
       "      <td>NaN</td>\n",
       "      <td>Common</td>\n",
       "      <td>Invasion: Vengeance Sneak Peek Participation Card</td>\n",
       "      <td>November 4, 2016</td>\n",
       "      <td>https://yugiohprices.com/price_history/INOV-EN...</td>\n",
       "    </tr>\n",
       "    <tr>\n",
       "      <th>3</th>\n",
       "      <td>3</td>\n",
       "      <td>3</td>\n",
       "      <td>\"A\" Cell Scatter Burst</td>\n",
       "      <td>Spell</td>\n",
       "      <td>NaN</td>\n",
       "      <td>NaN</td>\n",
       "      <td>NaN</td>\n",
       "      <td>NaN</td>\n",
       "      <td>73262676</td>\n",
       "      <td>NaN</td>\n",
       "      <td>...</td>\n",
       "      <td>Quick-Play</td>\n",
       "      <td>STON-EN041</td>\n",
       "      <td>Unlimited</td>\n",
       "      <td>1</td>\n",
       "      <td>NaN</td>\n",
       "      <td>NaN</td>\n",
       "      <td>Common</td>\n",
       "      <td>Strike of Neos Sneak Peek Participation Card</td>\n",
       "      <td>February 28, 2007</td>\n",
       "      <td>https://yugiohprices.com/price_history/STON-EN...</td>\n",
       "    </tr>\n",
       "    <tr>\n",
       "      <th>4</th>\n",
       "      <td>4</td>\n",
       "      <td>4</td>\n",
       "      <td>\"Infernoble Arms - Durendal\"</td>\n",
       "      <td>Spell</td>\n",
       "      <td>NaN</td>\n",
       "      <td>NaN</td>\n",
       "      <td>NaN</td>\n",
       "      <td>NaN</td>\n",
       "      <td>37478723</td>\n",
       "      <td>NaN</td>\n",
       "      <td>...</td>\n",
       "      <td>Equip</td>\n",
       "      <td>ROTD-EN053</td>\n",
       "      <td>Unlimited</td>\n",
       "      <td>1</td>\n",
       "      <td>NaN</td>\n",
       "      <td>NaN</td>\n",
       "      <td>Ultra Rare</td>\n",
       "      <td>Rise of the Duelist Premiere!</td>\n",
       "      <td>August 7, 2020</td>\n",
       "      <td>https://yugiohprices.com/price_history/ROTD-EN...</td>\n",
       "    </tr>\n",
       "  </tbody>\n",
       "</table>\n",
       "<p>5 rows × 22 columns</p>\n",
       "</div>"
      ],
      "text/plain": [
       "   Unnamed: 0  Unnamed: 0.1                           Name Card type  \\\n",
       "0           0             0       \"A\" Cell Breeding Device    Spell    \n",
       "1           1             1             \"A\" Cell Incubator    Spell    \n",
       "2           2             2  \"A\" Cell Recombination Device    Spell    \n",
       "3           3             3         \"A\" Cell Scatter Burst    Spell    \n",
       "4           4             4   \"Infernoble Arms - Durendal\"    Spell    \n",
       "\n",
       "  Attribute Monster Type  Level/Rank ATK/DEF  Passcode  \\\n",
       "0       NaN          NaN         NaN     NaN  34541863   \n",
       "1       NaN          NaN         NaN     NaN  64163367   \n",
       "2       NaN          NaN         NaN     NaN  91231901   \n",
       "3       NaN          NaN         NaN     NaN  73262676   \n",
       "4       NaN          NaN         NaN     NaN  37478723   \n",
       "\n",
       "  Materials / Ritual spell  ... Spell/Trap type    TCG sets    Ban_list  \\\n",
       "0                      NaN  ...     Continuous   FOTB-EN043  Unlimited    \n",
       "1                      NaN  ...     Continuous   GLAS-EN062  Unlimited    \n",
       "2                      NaN  ...     Quick-Play   INOV-EN063  Unlimited    \n",
       "3                      NaN  ...     Quick-Play   STON-EN041  Unlimited    \n",
       "4                      NaN  ...          Equip   ROTD-EN053  Unlimited    \n",
       "\n",
       "  Number of sets Link Arrows  Pendulum Scale    Rarities  \\\n",
       "0              1         NaN             NaN      Common   \n",
       "1              1         NaN             NaN      Common   \n",
       "2              1         NaN             NaN      Common   \n",
       "3              1         NaN             NaN      Common   \n",
       "4              1         NaN             NaN  Ultra Rare   \n",
       "\n",
       "                                            Set Name       Release Date  \\\n",
       "0  Force of the Breaker Sneak Peek Participation ...       May 16, 2007   \n",
       "1  Gladiator's Assault Sneak Peek Participation Card  November 14, 2007   \n",
       "2  Invasion: Vengeance Sneak Peek Participation Card   November 4, 2016   \n",
       "3       Strike of Neos Sneak Peek Participation Card  February 28, 2007   \n",
       "4                      Rise of the Duelist Premiere!     August 7, 2020   \n",
       "\n",
       "                                  Yugioh Prices Link  \n",
       "0  https://yugiohprices.com/price_history/FOTB-EN...  \n",
       "1  https://yugiohprices.com/price_history/GLAS-EN...  \n",
       "2  https://yugiohprices.com/price_history/INOV-EN...  \n",
       "3  https://yugiohprices.com/price_history/STON-EN...  \n",
       "4  https://yugiohprices.com/price_history/ROTD-EN...  \n",
       "\n",
       "[5 rows x 22 columns]"
      ]
     },
     "execution_count": 5,
     "metadata": {},
     "output_type": "execute_result"
    }
   ],
   "source": [
    "yugioh = pd.read_csv('YugiohCards.csv', sep=',')\n",
    "dt = yugioh\n",
    "dt.head()"
   ]
  },
  {
   "cell_type": "markdown",
   "id": "d96858ed",
   "metadata": {},
   "source": [
    "# Catogorical data"
   ]
  },
  {
   "cell_type": "code",
   "execution_count": 9,
   "id": "749c362c",
   "metadata": {},
   "outputs": [
    {
     "data": {
      "text/plain": [
       "<AxesSubplot:>"
      ]
     },
     "execution_count": 9,
     "metadata": {},
     "output_type": "execute_result"
    },
    {
     "data": {
      "image/png": "[encoded data removed]",
      "text/plain": [
       "<Figure size 432x288 with 1 Axes>"
      ]
     },
     "metadata": {
      "needs_background": "light"
     },
     "output_type": "display_data"
    }
   ],
   "source": [
    "dt[\"Card type\"].value_counts().plot(kind=\"bar\")"
   ]
  },
  {
   "cell_type": "code",
   "execution_count": 12,
   "id": "72f26f3e",
   "metadata": {
    "scrolled": true
   },
   "outputs": [
    {
     "data": {
      "text/plain": [
       "<AxesSubplot:>"
      ]
     },
     "execution_count": 12,
     "metadata": {},
     "output_type": "execute_result"
    },
    {
     "data": {
      "image/png": "[encoded data removed]",
      "text/plain": [
       "<Figure size 432x288 with 1 Axes>"
      ]
     },
     "metadata": {
      "needs_background": "light"
     },
     "output_type": "display_data"
    }
   ],
   "source": [
    "dt[\"Spell/Trap type\"].value_counts().plot(kind=\"bar\")"
   ]
  },
  {
   "cell_type": "markdown",
   "id": "88a2da57",
   "metadata": {},
   "source": [
    "# Numerical data"
   ]
  },
  {
   "cell_type": "code",
   "execution_count": 11,
   "id": "11871436",
   "metadata": {},
   "outputs": [
    {
     "data": {
      "text/plain": [
       "<AxesSubplot:>"
      ]
     },
     "execution_count": 11,
     "metadata": {},
     "output_type": "execute_result"
    },
    {
     "data": {
      "image/png": "[encoded data removed]",
      "text/plain": [
       "<Figure size 432x288 with 1 Axes>"
      ]
     },
     "metadata": {
      "needs_background": "light"
     },
     "output_type": "display_data"
    }
   ],
   "source": [
    "dt[\"Number of sets\"].value_counts().plot(kind=\"bar\")"
   ]
  },
  {
   "cell_type": "code",
   "execution_count": 13,
   "id": "789f4cdc",
   "metadata": {},
   "outputs": [
    {
     "data": {
      "text/plain": [
       "<AxesSubplot:>"
      ]
     },
     "execution_count": 13,
     "metadata": {},
     "output_type": "execute_result"
    },
    {
     "data": {
      "image/png": "[encoded data removed]",
      "text/plain": [
       "<Figure size 432x288 with 1 Axes>"
      ]
     },
     "metadata": {
      "needs_background": "light"
     },
     "output_type": "display_data"
    }
   ],
   "source": [
    "dt[\"Pendulum Scale\"].value_counts().plot(kind=\"bar\")"
   ]
  }
 ],
 "metadata": {
  "kernelspec": {
   "display_name": "Python 3 (ipykernel)",
   "language": "python",
   "name": "python3"
  },
  "language_info": {
   "codemirror_mode": {
    "name": "ipython",
    "version": 3
   },
   "file_extension": ".py",
   "mimetype": "text/x-python",
   "name": "python",
   "nbconvert_exporter": "python",
   "pygments_lexer": "ipython3",
   "version": "3.9.7"
  }
 },
 "nbformat": 4,
 "nbformat_minor": 5
}
